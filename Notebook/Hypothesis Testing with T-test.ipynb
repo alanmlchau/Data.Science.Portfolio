{
 "cells": [
  {
   "cell_type": "markdown",
   "metadata": {},
   "source": [
    "# Hypothesis Testing with T-Test\n",
    "\n",
    "Definitions:\n",
    "* A _quarter_ is a specific three month period, Q1 is January through March, Q2 is April through June, Q3 is July through September, Q4 is October through December.\n",
    "* A _recession_ is defined as starting with two consecutive quarters of GDP decline, and ending with two consecutive quarters of GDP growth.\n",
    "* A _recession bottom_ is the quarter within a recession which had the lowest GDP.\n",
    "* A _university town_ is a city which has a high percentage of university students compared to the total population of the city.\n",
    "\n",
    "**Hypothesis**: University towns have their mean housing prices less effected by recessions. Run a t-test to compare the ratio of the mean price of houses in university towns the quarter before the recession starts compared to the recession bottom. (`price_ratio=quarter_before_recession/recession_bottom`)\n",
    "\n",
    "Data files that will be used for the Project:\n",
    "* From the [Zillow research data site](http://www.zillow.com/research/data/) there is housing data for the United States. In particular the datafile for [all homes at a city level](http://files.zillowstatic.com/research/public/City/City_Zhvi_AllHomes.csv), ```City_Zhvi_AllHomes.csv```, has median home sale prices at a fine grained level.\n",
    "* From the Wikipedia page on college towns is a list of [university towns in the United States](https://en.wikipedia.org/wiki/List_of_college_towns#College_towns_in_the_United_States) which has been copy and pasted into the file ```university_towns.txt```.\n",
    "* From Bureau of Economic Analysis, US Department of Commerce, the [GDP over time](http://www.bea.gov/national/index.htm#gdp) of the United States in current dollars (use the chained value in 2009 dollars), in quarterly intervals, in the file ```gdplev.xls```.we will only look at GDP data from the first quarter of 2000 onward.\n"
   ]
  },
  {
   "cell_type": "markdown",
   "metadata": {},
   "source": [
    "## Datapreprocessing "
   ]
  },
  {
   "cell_type": "code",
   "execution_count": null,
   "metadata": {},
   "outputs": [],
   "source": [
    "import pandas as pd\n",
    "import numpy as np\n",
    "from scipy.stats import ttest_ind\n",
    "\n",
    "pd.set_option('display.max_rows', 100)\n",
    "      \n",
    "university_towns = pd.read_csv('university_towns.txt', sep='delimiter', header=None)\n",
    "university_towns_list = pd.DataFrame([], columns =['State', 'RegionName'])\n",
    "state = ''\n",
    "for items in university_towns[0]:\n",
    "        \n",
    "    if '[edit]' in items:\n",
    "        state = items[:items.find('[')]\n",
    "        continue\n",
    "        \n",
    "    region = ''\n",
    "    if '(' in items:\n",
    "            \n",
    "        region = items[:items.find(' (')]\n",
    "        \n",
    "    else:\n",
    "        region = items\n",
    "            \n",
    "    university_towns_list = university_towns_list.append(pd.DataFrame([[state, region]], columns=['State', 'RegionName']))\n"
   ]
  },
  {
   "cell_type": "markdown",
   "metadata": {},
   "source": [
    "## Finding the Start of Recession"
   ]
  },
  {
   "cell_type": "code",
   "execution_count": null,
   "metadata": {},
   "outputs": [],
   "source": [
    "GDP = pd.read_excel('gdplev.xls', skiprows=219 )\n",
    "GDP = GDP.drop(['Unnamed: 0', 'Unnamed: 1', 'Unnamed: 2', 'Unnamed: 3', 9926.1, 'Unnamed: 7'], axis=1)\n",
    "GDP.columns = ['Quarterly', 'GDP in billions of chained 2009 dollars']               \n",
    "GDP = GDP.set_index('Quarterly')\n",
    "GDP_start_quarter = ''\n",
    "for i in range(GDP['GDP in billions of chained 2009 dollars'].count()):\n",
    "    if GDP['GDP in billions of chained 2009 dollars'].iloc[i-1] > GDP['GDP in billions of chained 2009 dollars'].iloc[i] and GDP['GDP in billions of chained 2009 dollars'].iloc[i+1] < GDP['GDP in billions of chained 2009 dollars'].iloc[i]:\n",
    "        recession_start_quarter = GDP.iloc[i-1].name\n",
    "        break"
   ]
  },
  {
   "cell_type": "markdown",
   "metadata": {},
   "source": [
    "## Finding the End of Recession"
   ]
  },
  {
   "cell_type": "code",
   "execution_count": null,
   "metadata": {},
   "outputs": [],
   "source": [
    "GDP_end_quarter = ''\n",
    "for i in range(34, GDP['GDP in billions of chained 2009 dollars'].count()):\n",
    "    if GDP['GDP in billions of chained 2009 dollars'].iloc[i-1] < GDP['GDP in billions of chained 2009 dollars'].iloc[i] and GDP['GDP in billions of chained 2009 dollars'].iloc[i+1] > GDP['GDP in billions of chained 2009 dollars'].iloc[i]:\n",
    "        recession_end_quarter = GDP.iloc[i+1].name\n",
    "        break\n"
   ]
  },
  {
   "cell_type": "markdown",
   "metadata": {},
   "source": [
    "## Finding the Bottom of Recession"
   ]
  },
  {
   "cell_type": "code",
   "execution_count": null,
   "metadata": {},
   "outputs": [],
   "source": [
    "recession_bottom_value = min([GDP['GDP in billions of chained 2009 dollars'].iloc[34], GDP['GDP in billions of chained 2009 dollars'].iloc[35], GDP['GDP in billions of chained 2009 dollars'].iloc[36], GDP['GDP in billions of chained 2009 dollars'].iloc[37], GDP['GDP in billions of chained 2009 dollars'].iloc[38]])\n",
    "recession_bottom_quarter = GDP.loc[GDP['GDP in billions of chained 2009 dollars'] == GDP_bottom_value].index\n"
   ]
  },
  {
   "cell_type": "markdown",
   "metadata": {},
   "source": [
    "## Converting Housing Data from Year to Quarter"
   ]
  },
  {
   "cell_type": "code",
   "execution_count": null,
   "metadata": {},
   "outputs": [],
   "source": [
    "def get_quarter(year, month):\n",
    "    if month <= 3:\n",
    "        quarter = 1\n",
    "    elif month <= 6:\n",
    "        quarter = 2\n",
    "    elif month <= 9:\n",
    "        quarter = 3\n",
    "    elif month <= 12:\n",
    "        quarter = 4\n",
    "    return (str(year) + 'q' + str(quarter))\n",
    "housing_data = pd.read_csv('City_Zhvi_AllHomes.csv')\n",
    "housing_data = (housing_data.drop(['RegionID', 'Metro', 'CountyName', 'SizeRank'], axis=1)\n",
    "                            .replace({'State': states})\n",
    "                            .set_index(['State', 'RegionName'])\n",
    "                            .replace(to_replace='NaN', value=np.NaN)\n",
    "                            .convert_objects(convert_numeric=True)\n",
    "                            .sort())\n",
    "index = list(housing_data.columns.values).index('2000-01')\n",
    "housing_data = housing_data.drop(housing_data.columns[:index], axis=1)\n",
    "l = len(housing_data.columns)\n",
    "i = 0\n",
    "while i < l:\n",
    "    col_name = housing_data.iloc[:, i].name\n",
    "    year = int(col_name.split('-')[0])\n",
    "    month = int(col_name.split('-')[1])\n",
    "    quarter = get_quarter(year, month)\n",
    "    if i + 3 < l:\n",
    "        split = housing_data.iloc[:, i:i + 3]\n",
    "    else:\n",
    "        split = housing_data.iloc[:, i:l]\n",
    "    housing_data[quarter] = split.mean(axis=1)\n",
    "    i += 3\n",
    "housing_data = housing_data.drop(df.columns[:l], axis=1)\n",
    "    \n"
   ]
  },
  {
   "cell_type": "markdown",
   "metadata": {},
   "source": [
    "## T-test"
   ]
  },
  {
   "cell_type": "code",
   "execution_count": null,
   "metadata": {},
   "outputs": [],
   "source": [
    "ratio = housing_data['2008q2']/housing_data['2009q2']\n",
    "df_ratio = pd.DataFrame(ratio)\n",
    "df_ratio.columns=['Ratio']\n",
    "university_towns_list = university_towns_list.sort('RegionName').set_index(['State', 'RegionName'])\n",
    "uni_price = df_ratio.merge(university_towns_list, how='inner', left_index=True, right_index=True)\n",
    "uni_price = uni_price.dropna()\n",
    "non_uni_price = df_ratio.merge(university_towns_list, how='outer', left_index=True, right_index=True)\n",
    "non_uni_price = non_uni_price.dropna()\n",
    "\n",
    "    \n",
    "t, p = ttest_ind(uni_price['Ratio'], non_uni_price['Ratio'],equal_var=False)\n",
    "\n",
    "print(p)"
   ]
  }
 ],
 "metadata": {
  "kernelspec": {
   "display_name": "Python 3",
   "language": "python",
   "name": "python3"
  },
  "language_info": {
   "codemirror_mode": {
    "name": "ipython",
    "version": 3
   },
   "file_extension": ".py",
   "mimetype": "text/x-python",
   "name": "python",
   "nbconvert_exporter": "python",
   "pygments_lexer": "ipython3",
   "version": "3.7.3"
  }
 },
 "nbformat": 4,
 "nbformat_minor": 2
}
