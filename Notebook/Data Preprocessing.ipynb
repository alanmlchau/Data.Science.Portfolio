{
 "cells": [
  {
   "cell_type": "code",
   "execution_count": null,
   "metadata": {},
   "outputs": [],
   "source": [
    "import pandas as pd\n",
    "import numpy as np\n",
    "ScimEn = pd.read_excel('scimagojr-3.xlsx')\n",
    "GDP = pd.read_csv('world_bank.csv',skiprows=4)\n",
    "energy = pd.read_excel('Energy Indicators.xls', names=['1', '2', 'Country', 'Energy Supply', 'Energy Supply per Capita', '% Renewable'],\n",
    "                            skiprows=17, skipfooter=38)\n",
    "energy = energy.drop(['1', '2'], axis=1)\n",
    "energy['Country'] = energy['Country'].apply(lambda x: x.split(' (')[0])\n",
    "energy['Country'] = energy['Country'].apply(lambda x: x.split('1')[0])\n",
    "energy['Country'] = energy['Country'].apply(lambda x: x.split('2')[0])\n",
    "energy['Country'] = energy['Country'].apply(lambda x: x.split('0')[0])\n",
    "energy['Country'] = energy['Country'].apply(lambda x: x.split('3')[0])\n",
    "energy['Country'] = energy['Country'].apply(lambda x: x.split('4')[0])\n",
    "energy['Country'] = energy['Country'].apply(lambda x: x.split('5')[0])\n",
    "energy['Country'] = energy['Country'].apply(lambda x: x.split('6')[0])\n",
    "energy['Country'] = energy['Country'].apply(lambda x: x.split('7')[0])\n",
    "energy['Country'] = energy['Country'].apply(lambda x: x.split('8')[0])\n",
    "energy['Country'] = energy['Country'].apply(lambda x: x.split('9')[0])\n",
    "energy.replace(to_replace=[\"...\", \"Republic of Korea\", \"United States of America\",\"United Kingdom of Great Britain and Northern Ireland\",\n",
    "                            \"China, Hong Kong Special Administrative Region\"], \n",
    "                value=[np.nan, \"South Korea\", \"United States\", \"United Kingdom\", \"Hong Kong\"], inplace=True)\n",
    "energy['Energy Supply'] = energy['Energy Supply'] * (1000000)\n",
    "\n",
    "GDP['Country Name'].replace(\"Korea, Rep.\", \"South Korea\", inplace=True)\n",
    "GDP['Country Name'].replace(\"Iran, Islamic Rep.\", \"Iran\", inplace=True)\n",
    "GDP['Country Name'].replace(\"Hong Kong SAR, China\", \"Hong Kong\", inplace=True)\n",
    "GDP_new = GDP[['Country Name', '2006', '2007', '2008', '2009', '2010', '2011', '2012', '2013', '2014', '2015']]\n",
    "ScimEn_new = ScimEn.head(15)\n",
    "ScimEn_new = ScimEn_new.set_index('Country')\n",
    "GDP_new = GDP_new.set_index('Country Name')\n",
    "energy = energy.set_index('Country')\n",
    "    \n",
    "df = ScimEn_new.merge(energy, how='inner', left_index=True, right_index=True)\n",
    "result = df.merge(GDP_new, how='left', left_index=True, right_index=True)\n",
    "\n",
    "\n"
   ]
  }
 ],
 "metadata": {
  "kernelspec": {
   "display_name": "Python 3",
   "language": "python",
   "name": "python3"
  },
  "language_info": {
   "codemirror_mode": {
    "name": "ipython",
    "version": 3
   },
   "file_extension": ".py",
   "mimetype": "text/x-python",
   "name": "python",
   "nbconvert_exporter": "python",
   "pygments_lexer": "ipython3",
   "version": "3.7.3"
  }
 },
 "nbformat": 4,
 "nbformat_minor": 2
}
